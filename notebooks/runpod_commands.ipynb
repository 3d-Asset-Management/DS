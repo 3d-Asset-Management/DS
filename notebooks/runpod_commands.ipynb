{
 "cells": [
  {
   "cell_type": "code",
   "execution_count": null,
   "metadata": {},
   "outputs": [],
   "source": [
    "! git clone https://github.com/threestudio-project/threestudio.git\n",
    "! cd threestudio/\n",
    "! python3 -m virtualenv venv\n",
    "! venv/bin/activate\n",
    "! python3 -m pip install --upgrade pip\n",
    "! pip install torch torchvision --index-url https://download.pytorch.org/whl/cu118\n",
    "! pip install ninja\n",
    "! pip install -r requirements.txt\n",
    "\n",
    "# ! python -m pip install pip==23.0.1 --upgrade\n",
    "\n",
    "    # ! pip install tiny-cuda-nn\n",
    "    # ! pip install git+https://github.com/NVlabs/tiny-cuda-nn/#subdirectory=bindings/torch\n",
    "\n",
    "# ! python3 -m pip install --upgrade pip\n",
    "\n",
    "! pip install -r requirements.txt\n"
   ]
  },
  {
   "cell_type": "code",
   "execution_count": null,
   "metadata": {},
   "outputs": [],
   "source": [
    "# Login to hugging face\n",
    "\n",
    "from huggingface_hub import interpreter_login\n",
    "\n",
    "interpreter_login()"
   ]
  },
  {
   "cell_type": "code",
   "execution_count": null,
   "metadata": {},
   "outputs": [],
   "source": [
    "prompt = \"a zoomed out DSLR photo of a baby bunny sitting on top of a stack of pancakes\""
   ]
  },
  {
   "cell_type": "code",
   "execution_count": null,
   "metadata": {},
   "outputs": [],
   "source": [
    "!python launch.py --config configs/dreamfusion-if.yaml --train --gpu 0 system.prompt_processor.prompt=\"$prompt\" trainer.max_steps=10000 system.prompt_processor.spawn=false"
   ]
  }
 ],
 "metadata": {
  "kernelspec": {
   "display_name": "am_venv",
   "language": "python",
   "name": "python3"
  },
  "language_info": {
   "name": "python",
   "version": "3.10.11"
  }
 },
 "nbformat": 4,
 "nbformat_minor": 2
}
